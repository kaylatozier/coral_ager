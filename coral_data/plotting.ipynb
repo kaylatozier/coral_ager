{
 "cells": [
  {
   "cell_type": "code",
   "execution_count": null,
   "id": "dad52db6-4d28-4a4e-b9f7-3ac378f67cf0",
   "metadata": {},
   "outputs": [],
   "source": [
    "# Plotting\n",
    "plt.figure(figsize=(12, 5))\n",
    "plt.plot(df_d18o[\"age_model\"], df_d18o[\"d18o (per mil)\"], label=\"Interpolated δ18O (age modeled)\")\n",
    "plt.scatter(anchor_ages, d18o_summers[\"d18o (per mil)\"].values[:num_tiepoints], color=\"red\", label=\"Summer tie points\")\n",
    "plt.gca().invert_yaxis()\n",
    "plt.xlabel(\"Years ago\")\n",
    "plt.ylabel(\"δ18O\")\n",
    "plt.legend()\n",
    "plt.title(\"Age-Modeled Coral δ18O with Seasonal Tie Points\")\n",
    "plt.show()"
   ]
  }
 ],
 "metadata": {
  "kernelspec": {
   "display_name": "Python 3 (ipykernel)",
   "language": "python",
   "name": "python3"
  },
  "language_info": {
   "codemirror_mode": {
    "name": "ipython",
    "version": 3
   },
   "file_extension": ".py",
   "mimetype": "text/x-python",
   "name": "python",
   "nbconvert_exporter": "python",
   "pygments_lexer": "ipython3",
   "version": "3.12.2"
  }
 },
 "nbformat": 4,
 "nbformat_minor": 5
}
